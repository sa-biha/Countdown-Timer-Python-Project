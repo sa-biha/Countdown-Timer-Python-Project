{
  "nbformat": 4,
  "nbformat_minor": 0,
  "metadata": {
    "colab": {
      "provenance": [],
      "authorship_tag": "ABX9TyOEEdwgOrWE3JJPElAu/j6r",
      "include_colab_link": true
    },
    "kernelspec": {
      "name": "python3",
      "display_name": "Python 3"
    },
    "language_info": {
      "name": "python"
    }
  },
  "cells": [
    {
      "cell_type": "markdown",
      "metadata": {
        "id": "view-in-github",
        "colab_type": "text"
      },
      "source": [
        "<a href=\"https://colab.research.google.com/github/sa-biha/Countdown-Timer-Python-Project/blob/main/Countdown_Timer_Python_Project.ipynb\" target=\"_parent\"><img src=\"https://colab.research.google.com/assets/colab-badge.svg\" alt=\"Open In Colab\"/></a>"
      ]
    },
    {
      "cell_type": "markdown",
      "source": [
        "# ***Countdown Timer Python Project***"
      ],
      "metadata": {
        "id": "AoHLWHzwKClZ"
      }
    },
    {
      "cell_type": "markdown",
      "source": [
        "# ***Cell 1: Import Required Libraries***"
      ],
      "metadata": {
        "id": "GcmF6Y7bKLcC"
      }
    },
    {
      "cell_type": "code",
      "source": [
        "import time"
      ],
      "metadata": {
        "id": "R2GLF96qKVV3"
      },
      "execution_count": null,
      "outputs": []
    },
    {
      "cell_type": "markdown",
      "source": [
        "# ***Cell 2: Display Instructions***"
      ],
      "metadata": {
        "id": "gDYHlurEKYQG"
      }
    },
    {
      "cell_type": "code",
      "source": [
        "print(\"Welcome to the Countdown Timer!\")\n",
        "print(\"You can set a timer, and it will count down to zero.\")"
      ],
      "metadata": {
        "colab": {
          "base_uri": "https://localhost:8080/"
        },
        "id": "HDq-fP-mKdT-",
        "outputId": "381a8eb6-6760-40c1-d0b6-b269ef3128c1"
      },
      "execution_count": null,
      "outputs": [
        {
          "output_type": "stream",
          "name": "stdout",
          "text": [
            "Welcome to the Countdown Timer!\n",
            "You can set a timer, and it will count down to zero.\n"
          ]
        }
      ]
    },
    {
      "cell_type": "markdown",
      "source": [
        "# ***Cell 3: Define the Countdown Timer Function***"
      ],
      "metadata": {
        "id": "zQybOIAHKj3x"
      }
    },
    {
      "cell_type": "code",
      "source": [
        "def countdown_timer(seconds):\n",
        "    while seconds > 0:\n",
        "        mins, secs = divmod(seconds, 60)  # Convert seconds to minutes and seconds\n",
        "        timer = f\"{mins:02}:{secs:02}\"  # Format as MM:SS\n",
        "        print(timer, end=\"\\r\")  # Print the timer on the same line\n",
        "        time.sleep(1)  # Pause for 1 second\n",
        "        seconds -= 1\n",
        "    print(\"Time's up!\")  # Message when the timer ends"
      ],
      "metadata": {
        "id": "z_fyUcoPKqtj"
      },
      "execution_count": null,
      "outputs": []
    },
    {
      "cell_type": "markdown",
      "source": [
        "# ***Cell 4: Start the Countdown Timer***"
      ],
      "metadata": {
        "id": "JgnhVx43KyJd"
      }
    },
    {
      "cell_type": "code",
      "source": [
        "# Input for timer duration in seconds\n",
        "try:\n",
        "    total_seconds = int(input(\"Enter the countdown time in seconds: \"))\n",
        "    countdown_timer(total_seconds)\n",
        "except ValueError:\n",
        "    print(\"Invalid input! Please enter a number.\")"
      ],
      "metadata": {
        "colab": {
          "base_uri": "https://localhost:8080/"
        },
        "id": "oOHrjtmxK_AX",
        "outputId": "701aec96-3dbe-45c7-bf29-3d9323a22d83"
      },
      "execution_count": null,
      "outputs": [
        {
          "output_type": "stream",
          "name": "stdout",
          "text": [
            "Enter the countdown time in seconds: 5\n",
            "Time's up!\n"
          ]
        }
      ]
    }
  ]
}